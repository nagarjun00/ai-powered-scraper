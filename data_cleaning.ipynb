{
 "cells": [
  {
   "cell_type": "markdown",
   "metadata": {},
   "source": [
    "# Amazon Product Data Cleaning\n",
    "This notebook cleans the scraped Amazon product data by handling missing values, converting data types, removing duplicates, and standardizing text."
   ]
  },
  {
   "cell_type": "code",
   "execution_count": 1,
   "metadata": {},
   "outputs": [],
   "source": [
    "# Import necessary libraries\n",
    "import pandas as pd\n",
    "import numpy as np\n"
   ]
  },
  {
   "cell_type": "markdown",
   "metadata": {},
   "source": [
    "## Load the Data"
   ]
  },
  {
   "cell_type": "code",
   "execution_count": 3,
   "metadata": {},
   "outputs": [
    {
     "data": {
      "text/html": [
       "<div>\n",
       "<style scoped>\n",
       "    .dataframe tbody tr th:only-of-type {\n",
       "        vertical-align: middle;\n",
       "    }\n",
       "\n",
       "    .dataframe tbody tr th {\n",
       "        vertical-align: top;\n",
       "    }\n",
       "\n",
       "    .dataframe thead th {\n",
       "        text-align: right;\n",
       "    }\n",
       "</style>\n",
       "<table border=\"1\" class=\"dataframe\">\n",
       "  <thead>\n",
       "    <tr style=\"text-align: right;\">\n",
       "      <th></th>\n",
       "      <th>Title</th>\n",
       "      <th>Brand</th>\n",
       "      <th>Rating</th>\n",
       "      <th>Reviews</th>\n",
       "      <th>Price (₹)</th>\n",
       "      <th>Image URL</th>\n",
       "      <th>Product URL</th>\n",
       "    </tr>\n",
       "  </thead>\n",
       "  <tbody>\n",
       "    <tr>\n",
       "      <th>0</th>\n",
       "      <td>NaN</td>\n",
       "      <td>NaN</td>\n",
       "      <td>0.0</td>\n",
       "      <td>0</td>\n",
       "      <td>NaN</td>\n",
       "      <td>NaN</td>\n",
       "      <td>NaN</td>\n",
       "    </tr>\n",
       "    <tr>\n",
       "      <th>1</th>\n",
       "      <td>Storio Toy Octopus Plushie Reversible Soft Toy...</td>\n",
       "      <td>NaN</td>\n",
       "      <td>4.2</td>\n",
       "      <td>1585</td>\n",
       "      <td>178.0</td>\n",
       "      <td>https://m.media-amazon.com/images/I/51nqXz7iWr...</td>\n",
       "      <td>https://www.amazon.in/sspa/click?ie=UTF8&amp;spc=M...</td>\n",
       "    </tr>\n",
       "    <tr>\n",
       "      <th>2</th>\n",
       "      <td>Storio Toy Cute Penguin Plushie Soft Toys for ...</td>\n",
       "      <td>NaN</td>\n",
       "      <td>4.3</td>\n",
       "      <td>145</td>\n",
       "      <td>199.0</td>\n",
       "      <td>https://m.media-amazon.com/images/I/51i6bQTaMH...</td>\n",
       "      <td>https://www.amazon.in/sspa/click?ie=UTF8&amp;spc=M...</td>\n",
       "    </tr>\n",
       "    <tr>\n",
       "      <th>3</th>\n",
       "      <td>ADORA Adorable Pou Alien Cute Stuffed Toy - 22...</td>\n",
       "      <td>NaN</td>\n",
       "      <td>2.8</td>\n",
       "      <td>7</td>\n",
       "      <td>789.0</td>\n",
       "      <td>https://m.media-amazon.com/images/I/51JRfo+dlD...</td>\n",
       "      <td>https://www.amazon.in/sspa/click?ie=UTF8&amp;spc=M...</td>\n",
       "    </tr>\n",
       "    <tr>\n",
       "      <th>4</th>\n",
       "      <td>Meera The Blue Astronaut Soft Plush Toy - A St...</td>\n",
       "      <td>NaN</td>\n",
       "      <td>5.0</td>\n",
       "      <td>2</td>\n",
       "      <td>1499.0</td>\n",
       "      <td>https://m.media-amazon.com/images/I/51NcFOWL8I...</td>\n",
       "      <td>https://www.amazon.in/sspa/click?ie=UTF8&amp;spc=M...</td>\n",
       "    </tr>\n",
       "  </tbody>\n",
       "</table>\n",
       "</div>"
      ],
      "text/plain": [
       "                                               Title  Brand  Rating  Reviews  \\\n",
       "0                                                NaN    NaN     0.0        0   \n",
       "1  Storio Toy Octopus Plushie Reversible Soft Toy...    NaN     4.2     1585   \n",
       "2  Storio Toy Cute Penguin Plushie Soft Toys for ...    NaN     4.3      145   \n",
       "3  ADORA Adorable Pou Alien Cute Stuffed Toy - 22...    NaN     2.8        7   \n",
       "4  Meera The Blue Astronaut Soft Plush Toy - A St...    NaN     5.0        2   \n",
       "\n",
       "   Price (₹)                                          Image URL  \\\n",
       "0        NaN                                                NaN   \n",
       "1      178.0  https://m.media-amazon.com/images/I/51nqXz7iWr...   \n",
       "2      199.0  https://m.media-amazon.com/images/I/51i6bQTaMH...   \n",
       "3      789.0  https://m.media-amazon.com/images/I/51JRfo+dlD...   \n",
       "4     1499.0  https://m.media-amazon.com/images/I/51NcFOWL8I...   \n",
       "\n",
       "                                         Product URL  \n",
       "0                                                NaN  \n",
       "1  https://www.amazon.in/sspa/click?ie=UTF8&spc=M...  \n",
       "2  https://www.amazon.in/sspa/click?ie=UTF8&spc=M...  \n",
       "3  https://www.amazon.in/sspa/click?ie=UTF8&spc=M...  \n",
       "4  https://www.amazon.in/sspa/click?ie=UTF8&spc=M...  "
      ]
     },
     "execution_count": 3,
     "metadata": {},
     "output_type": "execute_result"
    }
   ],
   "source": [
    "import pandas as pd\n",
    "\n",
    "file_path = r'D:\\Assignment\\amazon_sponsored_soft_toys.csv'  # Use raw string to avoid escape issues\n",
    "df = pd.read_csv(file_path)  # Use read_csv for a CSV file\n",
    "\n",
    "df.head()  # Display the first 5 rows\n"
   ]
  },
  {
   "cell_type": "markdown",
   "metadata": {},
   "source": [
    "## Handling Missing Values"
   ]
  },
  {
   "cell_type": "code",
   "execution_count": 4,
   "metadata": {},
   "outputs": [],
   "source": [
    "# Fill missing values or drop rows with excessive missing data\n",
    "df.fillna({'Brand': 'Unknown', 'Reviews': '0', 'Rating': '0', 'Selling Price': '0'}, inplace=True)\n",
    "df.dropna(subset=['Title', 'Product URL'], inplace=True)  # Essential fields cannot be missing\n"
   ]
  },
  {
   "cell_type": "markdown",
   "metadata": {},
   "source": [
    "## Convert Data Types"
   ]
  },
  {
   "cell_type": "code",
   "execution_count": 5,
   "metadata": {},
   "outputs": [],
   "source": [
    "# Convert data types\n",
    "df['Rating'] = pd.to_numeric(df['Rating'], errors='coerce').fillna(0).astype(float)\n"
   ]
  },
  {
   "cell_type": "markdown",
   "metadata": {},
   "source": [
    "## Remove Duplicates"
   ]
  },
  {
   "cell_type": "code",
   "execution_count": 6,
   "metadata": {},
   "outputs": [],
   "source": [
    "# Remove duplicate entries\n",
    "df.drop_duplicates(subset=['Title', 'Product URL'], keep='first', inplace=True)"
   ]
  },
  {
   "cell_type": "markdown",
   "metadata": {},
   "source": [
    "## Standardize Text Formatting"
   ]
  },
  {
   "cell_type": "code",
   "execution_count": 7,
   "metadata": {},
   "outputs": [],
   "source": [
    "# Convert text columns to title case\n",
    "df['Title'] = df['Title'].str.title()\n",
    "df['Brand'] = df['Brand'].str.title()"
   ]
  },
  {
   "cell_type": "markdown",
   "metadata": {},
   "source": [
    "## Save the Cleaned Data"
   ]
  },
  {
   "cell_type": "code",
   "execution_count": 8,
   "metadata": {},
   "outputs": [
    {
     "name": "stdout",
     "output_type": "stream",
     "text": [
      "Cleaned data saved to cleaned_products.csv\n"
     ]
    }
   ],
   "source": [
    "# Save cleaned data to a CSV file\n",
    "cleaned_file_path = 'cleaned_products.csv'\n",
    "df.to_csv(cleaned_file_path, index=False, encoding='utf-8-sig')\n",
    "\n",
    "print(f'Cleaned data saved to {cleaned_file_path}')\n"
   ]
  }
 ],
 "metadata": {
  "kernelspec": {
   "display_name": "venv",
   "language": "python",
   "name": "python3"
  },
  "language_info": {
   "codemirror_mode": {
    "name": "ipython",
    "version": 3
   },
   "file_extension": ".py",
   "mimetype": "text/x-python",
   "name": "python",
   "nbconvert_exporter": "python",
   "pygments_lexer": "ipython3",
   "version": "3.13.3"
  }
 },
 "nbformat": 4,
 "nbformat_minor": 4
}
